{
  "nbformat": 4,
  "nbformat_minor": 0,
  "metadata": {
    "colab": {
      "name": "SentimentAnalysis_EDA_lstm.ipynb",
      "provenance": [],
      "collapsed_sections": [
        "aI7UfRqa1D0O",
        "VkltulB921PZ",
        "a3JDXxvhIpXa",
        "ZbbUZOK2hliG",
        "HA2eAhkXuA3C",
        "3agAKOfaybyY",
        "pj4Jw-B-Qb4p",
        "LxIZhrYqdHcb",
        "6ECimrUAQKa9",
        "qCC1OInW1r80"
      ],
      "toc_visible": true,
      "authorship_tag": "ABX9TyPrlzwyTspAOVKRRy/1CtfR",
      "include_colab_link": true
    },
    "kernelspec": {
      "name": "python3",
      "display_name": "Python 3"
    },
    "accelerator": "GPU"
  },
  "cells": [
    {
      "cell_type": "markdown",
      "metadata": {
        "id": "view-in-github",
        "colab_type": "text"
      },
      "source": [
        "<a href=\"https://colab.research.google.com/github/as2092/Sentiment-Analysis/blob/master/SentimentAnalysis_EDA_lstm.ipynb\" target=\"_parent\"><img src=\"https://colab.research.google.com/assets/colab-badge.svg\" alt=\"Open In Colab\"/></a>"
      ]
    },
    {
      "cell_type": "markdown",
      "metadata": {
        "id": "Oq8rHcpB8liL",
        "colab_type": "text"
      },
      "source": [
        "# What is Sentiment Analysis?\n",
        "Sentiment Analysis is one of the problems of NLP where models can detect opinion out of text. The text may be tweets about a business, product reviews by various users etc. and the opinion could be positive, negative or neutral.\n",
        "<br>\n",
        "# How does it work?\n",
        "For automated sentiment analysis, we make use of deep learning/machine learning models wherein this problem is treated as a classification problem i.e. classify a piece of text as negative, positive or neutral<br>\n",
        "As a supervised problem , this would involve a training phase and then the prediction phase: <br>\n",
        "For training, the model is fed with various samples. Each sample has a text and its label. The text is converted to a feature vector before being fed to the model. The training flow is as shown below<br>\n",
        "<br>\n",
        "Text--> Features &  Label--> MODEL <br>\n",
        "<br>\n",
        "Once the model is trained , it can be used to predict the sentiment of a text.<br>\n",
        "<br>\n",
        "Text--> Features--> TRAINED MODEL --> Output(Sentiment)<br>\n",
        "<br>\n",
        "# What is the feature vector?\n",
        "As a computational model can understand only numbers, it is required to convert the text to numbers. The classical approaches used Bag or words or bag of n-grams as features. Newer feature extraction techniques include word vectors/ word embeddings where words that are similar to each other lie closer on a vector space i.e. each word is converted to n-dimensional vector. This feature vector is fed to the model, as input. The word embeddings can be trained from scratch or there are pre-trained word embeddings e.g. Glove, word2vec which can be directly used to convert the words to feature vectors.<br>\n",
        "<br>\n",
        "# Our Approach\n",
        "In this notebook, I'll create two RNN(LSTM) based models for classification of tweets as positive, negative or neutral. For model 1 , the word ebeddings would be trained from scratch whereas for model 2 pre-trained embeddings(Glove) are used.<br>\n",
        "<br>\n",
        "The dataset used is US Airlines Twitter dataset available on kaggle.   \n",
        "\n",
        "\n"
      ]
    },
    {
      "cell_type": "markdown",
      "metadata": {
        "id": "sV6Bb4nwLUfA",
        "colab_type": "text"
      },
      "source": [
        "# Getting the data"
      ]
    },
    {
      "cell_type": "code",
      "metadata": {
        "id": "z6sK387IQA0n",
        "colab_type": "code",
        "colab": {}
      },
      "source": [
        "!mkdir -p ~/.kaggle"
      ],
      "execution_count": 0,
      "outputs": []
    },
    {
      "cell_type": "code",
      "metadata": {
        "id": "w5YYPPiIQDM0",
        "colab_type": "code",
        "colab": {}
      },
      "source": [
        "!mv kaggle.json ~/.kaggle/"
      ],
      "execution_count": 0,
      "outputs": []
    },
    {
      "cell_type": "code",
      "metadata": {
        "id": "u5mDrWy-QNoK",
        "colab_type": "code",
        "colab": {}
      },
      "source": [
        "!chmod 600 ~/.kaggle/kaggle.json"
      ],
      "execution_count": 0,
      "outputs": []
    },
    {
      "cell_type": "code",
      "metadata": {
        "id": "F9ZvqYwIQYMr",
        "colab_type": "code",
        "outputId": "748a29b2-0eff-453e-ef41-7a3b0714782c",
        "colab": {
          "base_uri": "https://localhost:8080/",
          "height": 139
        }
      },
      "source": [
        "!pip install -q kaggle\n",
        "!pip install -q kaggle-cli"
      ],
      "execution_count": 5,
      "outputs": [
        {
          "output_type": "stream",
          "text": [
            "\u001b[K     |████████████████████████████████| 81kB 538kB/s \n",
            "\u001b[K     |████████████████████████████████| 5.3MB 1.1MB/s \n",
            "\u001b[K     |████████████████████████████████| 112kB 51.8MB/s \n",
            "\u001b[K     |████████████████████████████████| 51kB 6.9MB/s \n",
            "\u001b[K     |████████████████████████████████| 112kB 44.6MB/s \n",
            "\u001b[?25h  Building wheel for kaggle-cli (setup.py) ... \u001b[?25l\u001b[?25hdone\n",
            "  Building wheel for pyperclip (setup.py) ... \u001b[?25l\u001b[?25hdone\n"
          ],
          "name": "stdout"
        }
      ]
    },
    {
      "cell_type": "code",
      "metadata": {
        "id": "b9m03WThQ6qo",
        "colab_type": "code",
        "colab": {}
      },
      "source": [
        "!kaggle datasets list -s twitter-airline-sentiment"
      ],
      "execution_count": 0,
      "outputs": []
    },
    {
      "cell_type": "code",
      "metadata": {
        "id": "AN_kbOLNSnNv",
        "colab_type": "code",
        "outputId": "93b86b70-7ed6-40b0-8bf3-bb1a6b187f92",
        "colab": {
          "base_uri": "https://localhost:8080/",
          "height": 69
        }
      },
      "source": [
        "!kaggle datasets download -d crowdflower/twitter-airline-sentiment"
      ],
      "execution_count": 6,
      "outputs": [
        {
          "output_type": "stream",
          "text": [
            "Downloading twitter-airline-sentiment.zip to /content\n",
            "\r  0% 0.00/2.55M [00:00<?, ?B/s]\n",
            "\r100% 2.55M/2.55M [00:00<00:00, 84.2MB/s]\n"
          ],
          "name": "stdout"
        }
      ]
    },
    {
      "cell_type": "code",
      "metadata": {
        "id": "Ztof7p6RS6wW",
        "colab_type": "code",
        "outputId": "def67317-ab00-4322-9c7c-3e075cc1f953",
        "colab": {
          "base_uri": "https://localhost:8080/",
          "height": 69
        }
      },
      "source": [
        "!unzip twitter-airline-sentiment.zip"
      ],
      "execution_count": 7,
      "outputs": [
        {
          "output_type": "stream",
          "text": [
            "Archive:  twitter-airline-sentiment.zip\n",
            "  inflating: Tweets.csv              \n",
            "  inflating: database.sqlite         \n"
          ],
          "name": "stdout"
        }
      ]
    },
    {
      "cell_type": "code",
      "metadata": {
        "id": "bJnMBgZJTFmE",
        "colab_type": "code",
        "colab": {}
      },
      "source": [
        "import pandas as pd\n",
        "import numpy as np\n",
        "pd.set_option('display.max_colwidth', -1)"
      ],
      "execution_count": 0,
      "outputs": []
    },
    {
      "cell_type": "code",
      "metadata": {
        "id": "FiRH-EEfTNzl",
        "colab_type": "code",
        "colab": {}
      },
      "source": [
        "# As we want text and its label as our data,, we can drop rest of the columns\n",
        "df = pd.read_csv(\"Tweets.csv\", usecols=['text', 'airline_sentiment'])"
      ],
      "execution_count": 0,
      "outputs": []
    },
    {
      "cell_type": "code",
      "metadata": {
        "id": "BPOglm1zTVAG",
        "colab_type": "code",
        "outputId": "bdd0f281-5236-473d-c724-3968493e100a",
        "colab": {
          "base_uri": "https://localhost:8080/",
          "height": 224
        }
      },
      "source": [
        "df=df[['text', 'airline_sentiment']]\n",
        "df.head()"
      ],
      "execution_count": 10,
      "outputs": [
        {
          "output_type": "execute_result",
          "data": {
            "text/html": [
              "<div>\n",
              "<style scoped>\n",
              "    .dataframe tbody tr th:only-of-type {\n",
              "        vertical-align: middle;\n",
              "    }\n",
              "\n",
              "    .dataframe tbody tr th {\n",
              "        vertical-align: top;\n",
              "    }\n",
              "\n",
              "    .dataframe thead th {\n",
              "        text-align: right;\n",
              "    }\n",
              "</style>\n",
              "<table border=\"1\" class=\"dataframe\">\n",
              "  <thead>\n",
              "    <tr style=\"text-align: right;\">\n",
              "      <th></th>\n",
              "      <th>text</th>\n",
              "      <th>airline_sentiment</th>\n",
              "    </tr>\n",
              "  </thead>\n",
              "  <tbody>\n",
              "    <tr>\n",
              "      <th>0</th>\n",
              "      <td>@VirginAmerica What @dhepburn said.</td>\n",
              "      <td>neutral</td>\n",
              "    </tr>\n",
              "    <tr>\n",
              "      <th>1</th>\n",
              "      <td>@VirginAmerica plus you've added commercials to the experience... tacky.</td>\n",
              "      <td>positive</td>\n",
              "    </tr>\n",
              "    <tr>\n",
              "      <th>2</th>\n",
              "      <td>@VirginAmerica I didn't today... Must mean I need to take another trip!</td>\n",
              "      <td>neutral</td>\n",
              "    </tr>\n",
              "    <tr>\n",
              "      <th>3</th>\n",
              "      <td>@VirginAmerica it's really aggressive to blast obnoxious \"entertainment\" in your guests' faces &amp;amp; they have little recourse</td>\n",
              "      <td>negative</td>\n",
              "    </tr>\n",
              "    <tr>\n",
              "      <th>4</th>\n",
              "      <td>@VirginAmerica and it's a really big bad thing about it</td>\n",
              "      <td>negative</td>\n",
              "    </tr>\n",
              "  </tbody>\n",
              "</table>\n",
              "</div>"
            ],
            "text/plain": [
              "                                                                                                                             text airline_sentiment\n",
              "0  @VirginAmerica What @dhepburn said.                                                                                             neutral         \n",
              "1  @VirginAmerica plus you've added commercials to the experience... tacky.                                                        positive        \n",
              "2  @VirginAmerica I didn't today... Must mean I need to take another trip!                                                         neutral         \n",
              "3  @VirginAmerica it's really aggressive to blast obnoxious \"entertainment\" in your guests' faces &amp; they have little recourse  negative        \n",
              "4  @VirginAmerica and it's a really big bad thing about it                                                                         negative        "
            ]
          },
          "metadata": {
            "tags": []
          },
          "execution_count": 10
        }
      ]
    },
    {
      "cell_type": "code",
      "metadata": {
        "id": "CME5pLNDaeJ5",
        "colab_type": "code",
        "outputId": "c94418ca-f30a-431f-d0e6-cbc8d76b21da",
        "colab": {
          "base_uri": "https://localhost:8080/",
          "height": 34
        }
      },
      "source": [
        "df.shape"
      ],
      "execution_count": 11,
      "outputs": [
        {
          "output_type": "execute_result",
          "data": {
            "text/plain": [
              "(14640, 2)"
            ]
          },
          "metadata": {
            "tags": []
          },
          "execution_count": 11
        }
      ]
    },
    {
      "cell_type": "code",
      "metadata": {
        "id": "R2S_LnLKViKS",
        "colab_type": "code",
        "outputId": "144b8be9-650b-4cf5-ac3e-91f022853e46",
        "colab": {
          "base_uri": "https://localhost:8080/",
          "height": 106
        }
      },
      "source": [
        "df.text[1:4]"
      ],
      "execution_count": 12,
      "outputs": [
        {
          "output_type": "execute_result",
          "data": {
            "text/plain": [
              "1    @VirginAmerica plus you've added commercials to the experience... tacky.                                                      \n",
              "2    @VirginAmerica I didn't today... Must mean I need to take another trip!                                                       \n",
              "3    @VirginAmerica it's really aggressive to blast obnoxious \"entertainment\" in your guests' faces &amp; they have little recourse\n",
              "Name: text, dtype: object"
            ]
          },
          "metadata": {
            "tags": []
          },
          "execution_count": 12
        }
      ]
    },
    {
      "cell_type": "code",
      "metadata": {
        "id": "-AkIaeVFdLAc",
        "colab_type": "code",
        "colab": {}
      },
      "source": [
        "import matplotlib.pyplot as plt\n"
      ],
      "execution_count": 0,
      "outputs": []
    },
    {
      "cell_type": "code",
      "metadata": {
        "id": "LKOJAVZlc_cj",
        "colab_type": "code",
        "colab": {
          "base_uri": "https://localhost:8080/",
          "height": 362
        },
        "outputId": "d841df25-6478-4a37-f559-7feefe041302"
      },
      "source": [
        "sentiment_count = df['airline_sentiment'].sort_index().value_counts()\n",
        "print (sentiment_count)\n",
        "sentiment_count.plot(kind='bar',rot=45)\n",
        "plt.show()"
      ],
      "execution_count": 14,
      "outputs": [
        {
          "output_type": "stream",
          "text": [
            "negative    9178\n",
            "neutral     3099\n",
            "positive    2363\n",
            "Name: airline_sentiment, dtype: int64\n"
          ],
          "name": "stdout"
        },
        {
          "output_type": "display_data",
          "data": {
            "image/png": "[encoded data removed]",
            "text/plain": [
              "<Figure size 432x288 with 1 Axes>"
            ]
          },
          "metadata": {
            "tags": []
          }
        }
      ]
    },
    {
      "cell_type": "markdown",
      "metadata": {
        "id": "05t_5OmYasF0",
        "colab_type": "text"
      },
      "source": [
        "As can be seen by the no. of tweets for each label, the dataset is more skewed towards negative category"
      ]
    },
    {
      "cell_type": "markdown",
      "metadata": {
        "id": "aI7UfRqa1D0O",
        "colab_type": "text"
      },
      "source": [
        "# Spacy\n",
        "Its modern and fast nlp library"
      ]
    },
    {
      "cell_type": "code",
      "metadata": {
        "id": "-DTdWTy41DEB",
        "colab_type": "code",
        "outputId": "f5c8312a-7d18-44c2-ddad-a5bf920419be",
        "colab": {
          "base_uri": "https://localhost:8080/",
          "height": 384
        }
      },
      "source": [
        "!pip install -U spacy"
      ],
      "execution_count": 0,
      "outputs": [
        {
          "output_type": "stream",
          "text": [
            "Requirement already up-to-date: spacy in /usr/local/lib/python3.6/dist-packages (2.2.4)\n",
            "Requirement already satisfied, skipping upgrade: wasabi<1.1.0,>=0.4.0 in /usr/local/lib/python3.6/dist-packages (from spacy) (0.6.0)\n",
            "Requirement already satisfied, skipping upgrade: catalogue<1.1.0,>=0.0.7 in /usr/local/lib/python3.6/dist-packages (from spacy) (1.0.0)\n",
            "Requirement already satisfied, skipping upgrade: thinc==7.4.0 in /usr/local/lib/python3.6/dist-packages (from spacy) (7.4.0)\n",
            "Requirement already satisfied, skipping upgrade: numpy>=1.15.0 in /usr/local/lib/python3.6/dist-packages (from spacy) (1.18.2)\n",
            "Requirement already satisfied, skipping upgrade: cymem<2.1.0,>=2.0.2 in /usr/local/lib/python3.6/dist-packages (from spacy) (2.0.3)\n",
            "Requirement already satisfied, skipping upgrade: tqdm<5.0.0,>=4.38.0 in /usr/local/lib/python3.6/dist-packages (from spacy) (4.38.0)\n",
            "Requirement already satisfied, skipping upgrade: plac<1.2.0,>=0.9.6 in /usr/local/lib/python3.6/dist-packages (from spacy) (1.1.3)\n",
            "Requirement already satisfied, skipping upgrade: requests<3.0.0,>=2.13.0 in /usr/local/lib/python3.6/dist-packages (from spacy) (2.21.0)\n",
            "Requirement already satisfied, skipping upgrade: preshed<3.1.0,>=3.0.2 in /usr/local/lib/python3.6/dist-packages (from spacy) (3.0.2)\n",
            "Requirement already satisfied, skipping upgrade: blis<0.5.0,>=0.4.0 in /usr/local/lib/python3.6/dist-packages (from spacy) (0.4.1)\n",
            "Requirement already satisfied, skipping upgrade: murmurhash<1.1.0,>=0.28.0 in /usr/local/lib/python3.6/dist-packages (from spacy) (1.0.2)\n",
            "Requirement already satisfied, skipping upgrade: setuptools in /usr/local/lib/python3.6/dist-packages (from spacy) (46.0.0)\n",
            "Requirement already satisfied, skipping upgrade: srsly<1.1.0,>=1.0.2 in /usr/local/lib/python3.6/dist-packages (from spacy) (1.0.2)\n",
            "Requirement already satisfied, skipping upgrade: importlib-metadata>=0.20; python_version < \"3.8\" in /usr/local/lib/python3.6/dist-packages (from catalogue<1.1.0,>=0.0.7->spacy) (1.5.0)\n",
            "Requirement already satisfied, skipping upgrade: urllib3<1.25,>=1.21.1 in /usr/local/lib/python3.6/dist-packages (from requests<3.0.0,>=2.13.0->spacy) (1.24.3)\n",
            "Requirement already satisfied, skipping upgrade: chardet<3.1.0,>=3.0.2 in /usr/local/lib/python3.6/dist-packages (from requests<3.0.0,>=2.13.0->spacy) (3.0.4)\n",
            "Requirement already satisfied, skipping upgrade: certifi>=2017.4.17 in /usr/local/lib/python3.6/dist-packages (from requests<3.0.0,>=2.13.0->spacy) (2019.11.28)\n",
            "Requirement already satisfied, skipping upgrade: idna<2.9,>=2.5 in /usr/local/lib/python3.6/dist-packages (from requests<3.0.0,>=2.13.0->spacy) (2.8)\n",
            "Requirement already satisfied, skipping upgrade: zipp>=0.5 in /usr/local/lib/python3.6/dist-packages (from importlib-metadata>=0.20; python_version < \"3.8\"->catalogue<1.1.0,>=0.0.7->spacy) (3.1.0)\n"
          ],
          "name": "stdout"
        }
      ]
    },
    {
      "cell_type": "code",
      "metadata": {
        "id": "B2ooTrRd1dLx",
        "colab_type": "code",
        "outputId": "81ae83d9-a097-4785-beb9-dfbe227c0994",
        "colab": {
          "base_uri": "https://localhost:8080/",
          "height": 506
        }
      },
      "source": [
        "#download the language model\n",
        "!python -m spacy download en"
      ],
      "execution_count": 0,
      "outputs": [
        {
          "output_type": "stream",
          "text": [
            "Requirement already satisfied: en_core_web_sm==2.2.5 from https://github.com/explosion/spacy-models/releases/download/en_core_web_sm-2.2.5/en_core_web_sm-2.2.5.tar.gz#egg=en_core_web_sm==2.2.5 in /usr/local/lib/python3.6/dist-packages (2.2.5)\n",
            "Requirement already satisfied: spacy>=2.2.2 in /usr/local/lib/python3.6/dist-packages (from en_core_web_sm==2.2.5) (2.2.4)\n",
            "Requirement already satisfied: catalogue<1.1.0,>=0.0.7 in /usr/local/lib/python3.6/dist-packages (from spacy>=2.2.2->en_core_web_sm==2.2.5) (1.0.0)\n",
            "Requirement already satisfied: requests<3.0.0,>=2.13.0 in /usr/local/lib/python3.6/dist-packages (from spacy>=2.2.2->en_core_web_sm==2.2.5) (2.21.0)\n",
            "Requirement already satisfied: murmurhash<1.1.0,>=0.28.0 in /usr/local/lib/python3.6/dist-packages (from spacy>=2.2.2->en_core_web_sm==2.2.5) (1.0.2)\n",
            "Requirement already satisfied: blis<0.5.0,>=0.4.0 in /usr/local/lib/python3.6/dist-packages (from spacy>=2.2.2->en_core_web_sm==2.2.5) (0.4.1)\n",
            "Requirement already satisfied: thinc==7.4.0 in /usr/local/lib/python3.6/dist-packages (from spacy>=2.2.2->en_core_web_sm==2.2.5) (7.4.0)\n",
            "Requirement already satisfied: numpy>=1.15.0 in /usr/local/lib/python3.6/dist-packages (from spacy>=2.2.2->en_core_web_sm==2.2.5) (1.18.2)\n",
            "Requirement already satisfied: wasabi<1.1.0,>=0.4.0 in /usr/local/lib/python3.6/dist-packages (from spacy>=2.2.2->en_core_web_sm==2.2.5) (0.6.0)\n",
            "Requirement already satisfied: cymem<2.1.0,>=2.0.2 in /usr/local/lib/python3.6/dist-packages (from spacy>=2.2.2->en_core_web_sm==2.2.5) (2.0.3)\n",
            "Requirement already satisfied: srsly<1.1.0,>=1.0.2 in /usr/local/lib/python3.6/dist-packages (from spacy>=2.2.2->en_core_web_sm==2.2.5) (1.0.2)\n",
            "Requirement already satisfied: plac<1.2.0,>=0.9.6 in /usr/local/lib/python3.6/dist-packages (from spacy>=2.2.2->en_core_web_sm==2.2.5) (1.1.3)\n",
            "Requirement already satisfied: setuptools in /usr/local/lib/python3.6/dist-packages (from spacy>=2.2.2->en_core_web_sm==2.2.5) (46.0.0)\n",
            "Requirement already satisfied: tqdm<5.0.0,>=4.38.0 in /usr/local/lib/python3.6/dist-packages (from spacy>=2.2.2->en_core_web_sm==2.2.5) (4.38.0)\n",
            "Requirement already satisfied: preshed<3.1.0,>=3.0.2 in /usr/local/lib/python3.6/dist-packages (from spacy>=2.2.2->en_core_web_sm==2.2.5) (3.0.2)\n",
            "Requirement already satisfied: importlib-metadata>=0.20; python_version < \"3.8\" in /usr/local/lib/python3.6/dist-packages (from catalogue<1.1.0,>=0.0.7->spacy>=2.2.2->en_core_web_sm==2.2.5) (1.5.0)\n",
            "Requirement already satisfied: chardet<3.1.0,>=3.0.2 in /usr/local/lib/python3.6/dist-packages (from requests<3.0.0,>=2.13.0->spacy>=2.2.2->en_core_web_sm==2.2.5) (3.0.4)\n",
            "Requirement already satisfied: certifi>=2017.4.17 in /usr/local/lib/python3.6/dist-packages (from requests<3.0.0,>=2.13.0->spacy>=2.2.2->en_core_web_sm==2.2.5) (2019.11.28)\n",
            "Requirement already satisfied: idna<2.9,>=2.5 in /usr/local/lib/python3.6/dist-packages (from requests<3.0.0,>=2.13.0->spacy>=2.2.2->en_core_web_sm==2.2.5) (2.8)\n",
            "Requirement already satisfied: urllib3<1.25,>=1.21.1 in /usr/local/lib/python3.6/dist-packages (from requests<3.0.0,>=2.13.0->spacy>=2.2.2->en_core_web_sm==2.2.5) (1.24.3)\n",
            "Requirement already satisfied: zipp>=0.5 in /usr/local/lib/python3.6/dist-packages (from importlib-metadata>=0.20; python_version < \"3.8\"->catalogue<1.1.0,>=0.0.7->spacy>=2.2.2->en_core_web_sm==2.2.5) (3.1.0)\n",
            "\u001b[38;5;2m✔ Download and installation successful\u001b[0m\n",
            "You can now load the model via spacy.load('en_core_web_sm')\n",
            "\u001b[38;5;2m✔ Linking successful\u001b[0m\n",
            "/usr/local/lib/python3.6/dist-packages/en_core_web_sm -->\n",
            "/usr/local/lib/python3.6/dist-packages/spacy/data/en\n",
            "You can now load the model via spacy.load('en')\n"
          ],
          "name": "stdout"
        }
      ]
    },
    {
      "cell_type": "code",
      "metadata": {
        "id": "6lOC1K4O2OHB",
        "colab_type": "code",
        "colab": {}
      },
      "source": [
        "\n",
        "# load the model and create an object\n",
        "import spacy\n",
        "\n",
        "nlp = spacy.load('en_core_web_sm')\n"
      ],
      "execution_count": 0,
      "outputs": []
    },
    {
      "cell_type": "markdown",
      "metadata": {
        "id": "ZbbUZOK2hliG",
        "colab_type": "text"
      },
      "source": [
        "# Data Preparation\n",
        "\n",
        "\n",
        "\n"
      ]
    },
    {
      "cell_type": "markdown",
      "metadata": {
        "id": "5FaEifaWt3ZE",
        "colab_type": "text"
      },
      "source": [
        "Splitting the data into train, test and validation sets"
      ]
    },
    {
      "cell_type": "code",
      "metadata": {
        "id": "EaPWSt2kjyzQ",
        "colab_type": "code",
        "colab": {}
      },
      "source": [
        "import os\n",
        "from sklearn.model_selection import train_test_split"
      ],
      "execution_count": 0,
      "outputs": []
    },
    {
      "cell_type": "code",
      "metadata": {
        "id": "kIs8hPzzkUC9",
        "colab_type": "code",
        "colab": {}
      },
      "source": [
        "df_train, df_split = train_test_split(df, test_size=0.33, random_state=42, shuffle=True)"
      ],
      "execution_count": 0,
      "outputs": []
    },
    {
      "cell_type": "code",
      "metadata": {
        "id": "8USt_eaXpr2F",
        "colab_type": "code",
        "colab": {}
      },
      "source": [
        "df_val, df_test = train_test_split(df_split, test_size=0.5, random_state=42, shuffle=True)"
      ],
      "execution_count": 0,
      "outputs": []
    },
    {
      "cell_type": "code",
      "metadata": {
        "id": "X1o-6bK2zP_r",
        "colab_type": "code",
        "colab": {}
      },
      "source": [
        "os.mkdir('data')"
      ],
      "execution_count": 0,
      "outputs": []
    },
    {
      "cell_type": "code",
      "metadata": {
        "id": "Mo-T29ROzVuT",
        "colab_type": "code",
        "colab": {}
      },
      "source": [
        "df_train.to_csv('data/train.csv', index=False)\n",
        "df_val.to_csv('data/val.csv', index=False)\n",
        "df_test.to_csv('data/test.csv', index=False)"
      ],
      "execution_count": 0,
      "outputs": []
    },
    {
      "cell_type": "markdown",
      "metadata": {
        "id": "cFJ0YNeQ6ukF",
        "colab_type": "text"
      },
      "source": [
        "For futher implememtations I'll be using pytorch"
      ]
    },
    {
      "cell_type": "code",
      "metadata": {
        "id": "Z6VSe4Emxk1v",
        "colab_type": "code",
        "colab": {}
      },
      "source": [
        "import torch \n",
        "from torchtext import data"
      ],
      "execution_count": 0,
      "outputs": []
    },
    {
      "cell_type": "code",
      "metadata": {
        "id": "v_qtIyw80J5G",
        "colab_type": "code",
        "colab": {}
      },
      "source": [
        "# set the seed and define the field\n",
        "SEED = 2092\n",
        "\n",
        "torch.manual_seed(SEED)\n",
        "torch.backends.cudnn.deterministic = True\n",
        "\n",
        "TEXT = data.Field(tokenize = 'spacy', include_lengths = True)\n",
        "LABEL = data.LabelField(dtype = torch.float)"
      ],
      "execution_count": 0,
      "outputs": []
    },
    {
      "cell_type": "code",
      "metadata": {
        "id": "hLPBk4_eb_2J",
        "colab_type": "code",
        "colab": {}
      },
      "source": [
        "# creating training, validation and test set\n",
        "train_data, val_data, test_data = data.TabularDataset.splits(path='data/',\n",
        "                                                            train='train.csv',\n",
        "                                                            validation='val.csv',\n",
        "                                                            test='test.csv',\n",
        "                                                            format='csv',\n",
        "                                                            skip_header=True,\n",
        "                                                            fields=[('text', TEXT), ('airline_sentiment', LABEL)])"
      ],
      "execution_count": 0,
      "outputs": []
    },
    {
      "cell_type": "code",
      "metadata": {
        "id": "VSqHxA3cio3S",
        "colab_type": "code",
        "outputId": "c851d287-5cfc-4b07-c52b-f9c7c371fe7e",
        "colab": {
          "base_uri": "https://localhost:8080/",
          "height": 34
        }
      },
      "source": [
        "type(train_data.examples)"
      ],
      "execution_count": 0,
      "outputs": [
        {
          "output_type": "execute_result",
          "data": {
            "text/plain": [
              "list"
            ]
          },
          "metadata": {
            "tags": []
          },
          "execution_count": 25
        }
      ]
    },
    {
      "cell_type": "code",
      "metadata": {
        "id": "-mZmoHpTlStb",
        "colab_type": "code",
        "outputId": "82a6d5dc-2b04-47cc-98b2-f4235830cfe0",
        "colab": {
          "base_uri": "https://localhost:8080/",
          "height": 34
        }
      },
      "source": [
        "print(len(train_data), len(test_data), len(val_data))"
      ],
      "execution_count": 0,
      "outputs": [
        {
          "output_type": "stream",
          "text": [
            "9808 2416 2416\n"
          ],
          "name": "stdout"
        }
      ]
    },
    {
      "cell_type": "code",
      "metadata": {
        "id": "Kzepj8eFlh4W",
        "colab_type": "code",
        "outputId": "f44207ca-e185-47d5-b65d-55706930bbf2",
        "colab": {
          "base_uri": "https://localhost:8080/",
          "height": 34
        }
      },
      "source": [
        "print(vars(train_data.examples[0])) # tokenized example using spacy tokenizer"
      ],
      "execution_count": 0,
      "outputs": [
        {
          "output_type": "stream",
          "text": [
            "{'text': ['@JetBlue', 'of', 'course', 'I', 'am!!', '✈', '️'], 'airline_sentiment': 'neutral'}\n"
          ],
          "name": "stdout"
        }
      ]
    },
    {
      "cell_type": "markdown",
      "metadata": {
        "id": "IyOftdy7pmzr",
        "colab_type": "text"
      },
      "source": [
        "As our models can understand only numbers, next task is to create a vocab and convert words to word embeddings. Words not in vocab are replaced by \\<unk\\>.We can train embeddings from scratch while training the model or we can use any pre-trained embeddings which would already have words with similar semantic meaning close together in the vector space. e.g. Glove, word2vec<br>\n"
      ]
    },
    {
      "cell_type": "code",
      "metadata": {
        "id": "825Y8PrpfCEm",
        "colab_type": "code",
        "colab": {}
      },
      "source": [
        "# use this for custom embeddings\n",
        "MAX_VOCAB_SIZE = 15000\n",
        "\n",
        "TEXT.build_vocab(train_data, max_size=MAX_VOCAB_SIZE)\n",
        "LABEL.build_vocab(train_data)\n"
      ],
      "execution_count": 0,
      "outputs": []
    },
    {
      "cell_type": "code",
      "metadata": {
        "id": "888C1IKkjX0S",
        "colab_type": "code",
        "outputId": "641e56c1-a5cd-4df6-df28-349e140250b6",
        "colab": {
          "base_uri": "https://localhost:8080/",
          "height": 34
        }
      },
      "source": [
        "print(len(TEXT.vocab), len(LABEL.vocab)) #its 15002 bcause of <unk> and <pad>"
      ],
      "execution_count": 0,
      "outputs": [
        {
          "output_type": "stream",
          "text": [
            "15002 3\n"
          ],
          "name": "stdout"
        }
      ]
    },
    {
      "cell_type": "markdown",
      "metadata": {
        "id": "csch08g3ueUA",
        "colab_type": "text"
      },
      "source": [
        "Padding is done so that all the sentences that are to be sent in a batch as input to the model are of same length"
      ]
    },
    {
      "cell_type": "code",
      "metadata": {
        "id": "N7zrFCt3uUgu",
        "colab_type": "code",
        "outputId": "f0528a77-01a2-47bb-ad7d-11add541ee37",
        "colab": {
          "base_uri": "https://localhost:8080/",
          "height": 54
        }
      },
      "source": [
        "print(TEXT.vocab.itos[:20])"
      ],
      "execution_count": 0,
      "outputs": [
        {
          "output_type": "stream",
          "text": [
            "['<unk>', '<pad>', '.', 'to', 'I', 'the', '!', '?', 'a', ',', 'for', 'you', 'on', '@united', 'and', '#', 'flight', 'my', '@AmericanAir', '@USAirways']\n"
          ],
          "name": "stdout"
        }
      ]
    },
    {
      "cell_type": "code",
      "metadata": {
        "id": "A5GM5nduvWrv",
        "colab_type": "code",
        "outputId": "41025b6e-46df-4cc8-f514-bd77a29f379f",
        "colab": {
          "base_uri": "https://localhost:8080/",
          "height": 34
        }
      },
      "source": [
        "print(LABEL.vocab.stoi)"
      ],
      "execution_count": 0,
      "outputs": [
        {
          "output_type": "stream",
          "text": [
            "defaultdict(<function _default_unk_index at 0x7fb8aba12d08>, {'negative': 0, 'neutral': 1, 'positive': 2})\n"
          ],
          "name": "stdout"
        }
      ]
    },
    {
      "cell_type": "markdown",
      "metadata": {
        "id": "3agAKOfaybyY",
        "colab_type": "text"
      },
      "source": [
        "# Building Models\n",
        "\n",
        "\n",
        "1.   Bi-directional LSTM with custom embedding\n",
        "2.   Bi-directional LSTM with pre-trained embedding(Glove)\n",
        "3.   Training the previous model with cleaned data\n"
      ]
    },
    {
      "cell_type": "markdown",
      "metadata": {
        "id": "pj4Jw-B-Qb4p",
        "colab_type": "text"
      },
      "source": [
        "# Bi-directional LSTM with custom embedding"
      ]
    },
    {
      "cell_type": "markdown",
      "metadata": {
        "id": "tJ_wnzH3wR05",
        "colab_type": "text"
      },
      "source": [
        "Next step is creating the iterators. We loop over these iterators during training/evaluation and these return batch of examples(padded and converted to tensors). BucketIterator is the one<br>\n",
        "In order to place the returned tensors onto the GPU, we use torch.device and then pass this to the iterator"
      ]
    },
    {
      "cell_type": "code",
      "metadata": {
        "id": "CWIyXXLKQjPy",
        "colab_type": "code",
        "colab": {}
      },
      "source": [
        "BATCH_SIZE = 64\n",
        "\n",
        "device = torch.device('cuda' if torch.cuda.is_available() else 'cpu')\n",
        "\n",
        "train_iterator, val_iterator, test_iterator = data.BucketIterator.splits(\n",
        "    (train_data, val_data, test_data), \n",
        "    batch_size = BATCH_SIZE,\n",
        "    sort_key=lambda x: len(x.text),\n",
        "    sort_within_batch = True,\n",
        "    device = device)"
      ],
      "execution_count": 0,
      "outputs": []
    },
    {
      "cell_type": "code",
      "metadata": {
        "id": "jPvEYg8kUE1e",
        "colab_type": "code",
        "colab": {}
      },
      "source": [
        "import torch.nn as nn\n",
        "\n",
        "# creating the model class\n",
        "class BiLSTM(nn.Module):\n",
        "  def __init__(self, vocab_size, embedding_dim, hidden_dim, output_dim, n_layers, \n",
        "                 bidirectional, dropout, pad_idx):\n",
        "    super().__init__()\n",
        "    self.embedding = nn.Embedding(vocab_size, embedding_dim, padding_idx = pad_idx)\n",
        "    self.bilstm = nn.LSTM(embedding_dim, \n",
        "                           hidden_dim, \n",
        "                           num_layers=n_layers, \n",
        "                           bidirectional=bidirectional, \n",
        "                           dropout=dropout)\n",
        "        \n",
        "    self.fc = nn.Linear(hidden_dim * 2, output_dim)\n",
        "      \n",
        "    self.dropout = nn.Dropout(dropout)\n",
        "\n",
        "  def forward(self, text, text_lengths):\n",
        "        \n",
        "      #text = [sent len, batch size]\n",
        "      \n",
        "      embedded = self.dropout(self.embedding(text))\n",
        "      \n",
        "      #embedded = [sent len, batch size, emb dim]\n",
        "      \n",
        "      #pack sequence\n",
        "      packed_embedded = nn.utils.rnn.pack_padded_sequence(embedded, text_lengths)\n",
        "      \n",
        "      packed_output, (hidden, cell) = self.bilstm(packed_embedded)\n",
        "      \n",
        "      #unpack sequence\n",
        "      output, output_lengths = nn.utils.rnn.pad_packed_sequence(packed_output)\n",
        "\n",
        "      #output = [sent len, batch size, hid dim * num directions]\n",
        "      #output over padding tokens are zero tensors\n",
        "      \n",
        "      #hidden = [num layers * num directions, batch size, hid dim]\n",
        "      #cell = [num layers * num directions, batch size, hid dim]\n",
        "      \n",
        "      #concat the final forward (hidden[-2,:,:]) and backward (hidden[-1,:,:]) hidden layers\n",
        "      #and apply dropout\n",
        "      \n",
        "      hidden = self.dropout(torch.cat((hidden[-2,:,:], hidden[-1,:,:]), dim = 1))\n",
        "              \n",
        "      #hidden = [batch size, hid dim * num directions]\n",
        "          \n",
        "      return self.fc(hidden)"
      ],
      "execution_count": 0,
      "outputs": []
    },
    {
      "cell_type": "markdown",
      "metadata": {
        "id": "Vu9BJASnY0yx",
        "colab_type": "text"
      },
      "source": [
        "Create an instance of BiLstm class and load the parameters"
      ]
    },
    {
      "cell_type": "code",
      "metadata": {
        "id": "Jm14V_acYl0o",
        "colab_type": "code",
        "colab": {}
      },
      "source": [
        "INPUT_DIM = len(TEXT.vocab)\n",
        "EMBEDDING_DIM = 100\n",
        "HIDDEN_DIM = 256\n",
        "OUTPUT_DIM = 3\n",
        "N_LAYERS = 2\n",
        "BIDIRECTIONAL = True\n",
        "DROPOUT = 0.5\n",
        "\n",
        "PAD_IDX = TEXT.vocab.stoi[TEXT.pad_token]\n",
        "\n",
        "model = BiLSTM(INPUT_DIM, \n",
        "            EMBEDDING_DIM, \n",
        "            HIDDEN_DIM, \n",
        "            OUTPUT_DIM, \n",
        "            N_LAYERS, \n",
        "            BIDIRECTIONAL, \n",
        "            DROPOUT, \n",
        "            PAD_IDX)"
      ],
      "execution_count": 0,
      "outputs": []
    },
    {
      "cell_type": "code",
      "metadata": {
        "id": "c5nPtBUnc_h9",
        "colab_type": "code",
        "colab": {}
      },
      "source": [
        "# create an optimizer\n",
        "import torch.optim as optim\n",
        "\n",
        "optimizer = optim.Adam(model.parameters())  # this alogo would update the model's parameters, pytorch sets the leaning rate itself"
      ],
      "execution_count": 0,
      "outputs": []
    },
    {
      "cell_type": "code",
      "metadata": {
        "id": "oVn404zYdA2X",
        "colab_type": "code",
        "colab": {}
      },
      "source": [
        "# defining the loss function is known as criterion\n",
        "criterion = nn.CrossEntropyLoss()\n",
        "\n",
        "# place the model and criterion to the GPU\n",
        "model = model.to(device)\n",
        "criterion = criterion.to(device)"
      ],
      "execution_count": 0,
      "outputs": []
    },
    {
      "cell_type": "markdown",
      "metadata": {
        "id": "LxIZhrYqdHcb",
        "colab_type": "text"
      },
      "source": [
        "# Training the model"
      ]
    },
    {
      "cell_type": "code",
      "metadata": {
        "id": "4Aj9yH2gdG9J",
        "colab_type": "code",
        "colab": {}
      },
      "source": [
        "def binary_accuracy(preds, y):\n",
        "    \"\"\"\n",
        "    Returns accuracy for each batch\n",
        "    \"\"\"\n",
        "\n",
        "    _, preds = torch.max(preds, 1)\n",
        "    correct = (preds == y).float() #convert into float for division \n",
        "    acc = correct.sum() / len(correct)\n",
        "    return acc\n",
        "\n",
        "def train(model, iterator, optimizer, criterion):\n",
        "    \n",
        "    epoch_loss = 0\n",
        "    epoch_acc = 0\n",
        "    \n",
        "    # model in training mode\n",
        "    model.train()\n",
        "    \n",
        "    for batch in iterator:\n",
        "        \n",
        "        optimizer.zero_grad()\n",
        "        \n",
        "        text, text_lengths = batch.text\n",
        "        \n",
        "        predictions = model(text, text_lengths).squeeze(1)\n",
        "        # print(predictions.shape)\n",
        "        # print(predictions)\n",
        "        \n",
        "        loss = criterion(predictions, batch.airline_sentiment.long())\n",
        "        \n",
        "        acc = binary_accuracy(predictions, batch.airline_sentiment.long())\n",
        "        \n",
        "        loss.backward()\n",
        "        \n",
        "        optimizer.step()\n",
        "        \n",
        "        epoch_loss += loss.item()\n",
        "        epoch_acc += acc.item()\n",
        "        \n",
        "    return epoch_loss / len(iterator), epoch_acc / len(iterator)\n",
        "\n",
        "def evaluate(model, iterator, criterion):\n",
        "    \n",
        "    epoch_loss = 0\n",
        "    epoch_acc = 0\n",
        "    \n",
        "    model.eval()\n",
        "    \n",
        "    with torch.no_grad():\n",
        "    \n",
        "        for batch in iterator:\n",
        "\n",
        "            text, text_lengths = batch.text\n",
        "            \n",
        "            predictions = model(text, text_lengths).squeeze(1)\n",
        "            # print(predictions.shape)\n",
        "            \n",
        "            loss = criterion(predictions, batch.airline_sentiment.long())\n",
        "            \n",
        "            acc = binary_accuracy(predictions, batch.airline_sentiment.long())\n",
        "\n",
        "            epoch_loss += loss.item()\n",
        "            epoch_acc += acc.item()\n",
        "        \n",
        "    return epoch_loss / len(iterator), epoch_acc / len(iterator)\n",
        "\n",
        "import time\n",
        "\n",
        "def epoch_time(start_time, end_time):\n",
        "    elapsed_time = end_time - start_time\n",
        "    elapsed_mins = int(elapsed_time / 60)\n",
        "    elapsed_secs = int(elapsed_time - (elapsed_mins * 60))\n",
        "    return elapsed_mins, elapsed_secs\n"
      ],
      "execution_count": 0,
      "outputs": []
    },
    {
      "cell_type": "code",
      "metadata": {
        "id": "7_Ch_RXXduWD",
        "colab_type": "code",
        "outputId": "7c66dfb3-5448-43fa-c177-334466ed7e40",
        "colab": {
          "base_uri": "https://localhost:8080/",
          "height": 278
        }
      },
      "source": [
        "# model training\n",
        "N_EPOCHS = 5\n",
        "\n",
        "best_valid_loss = float('inf')\n",
        "\n",
        "for epoch in range(N_EPOCHS):\n",
        "\n",
        "    start_time = time.time()\n",
        "    \n",
        "    train_loss, train_acc = train(model, train_iterator, optimizer, criterion)\n",
        "    valid_loss, valid_acc = evaluate(model, val_iterator, criterion)\n",
        "    \n",
        "    end_time = time.time()\n",
        "\n",
        "    epoch_mins, epoch_secs = epoch_time(start_time, end_time)\n",
        "    \n",
        "    if valid_loss < best_valid_loss:\n",
        "        best_valid_loss = valid_loss\n",
        "        torch.save(model.state_dict(), 'tut2-model.pt')\n",
        "    \n",
        "    print(f'Epoch: {epoch+1:02} | Epoch Time: {epoch_mins}m {epoch_secs}s')\n",
        "    print(f'\\tTrain Loss: {train_loss:.3f} | Train Acc: {train_acc*100:.2f}%')\n",
        "    print(f'\\t Val. Loss: {valid_loss:.3f} |  Val. Acc: {valid_acc*100:.2f}%')"
      ],
      "execution_count": 0,
      "outputs": [
        {
          "output_type": "stream",
          "text": [
            "Epoch: 01 | Epoch Time: 0m 2s\n",
            "\tTrain Loss: 0.352 | Train Acc: 86.07%\n",
            "\t Val. Loss: 0.615 |  Val. Acc: 78.76%\n",
            "Epoch: 02 | Epoch Time: 0m 2s\n",
            "\tTrain Loss: 0.340 | Train Acc: 86.85%\n",
            "\t Val. Loss: 0.639 |  Val. Acc: 79.74%\n",
            "Epoch: 03 | Epoch Time: 0m 2s\n",
            "\tTrain Loss: 0.310 | Train Acc: 88.12%\n",
            "\t Val. Loss: 0.674 |  Val. Acc: 79.28%\n",
            "Epoch: 04 | Epoch Time: 0m 2s\n",
            "\tTrain Loss: 0.294 | Train Acc: 88.73%\n",
            "\t Val. Loss: 0.710 |  Val. Acc: 79.67%\n",
            "Epoch: 05 | Epoch Time: 0m 2s\n",
            "\tTrain Loss: 0.268 | Train Acc: 89.92%\n",
            "\t Val. Loss: 0.693 |  Val. Acc: 78.96%\n"
          ],
          "name": "stdout"
        }
      ]
    },
    {
      "cell_type": "markdown",
      "metadata": {
        "id": "6ECimrUAQKa9",
        "colab_type": "text"
      },
      "source": [
        "# Bi-directional LSTM with pre-trained embedding (Glove)"
      ]
    },
    {
      "cell_type": "code",
      "metadata": {
        "id": "1Hbg-lGRjGEj",
        "colab_type": "code",
        "outputId": "342f6f5e-a8d6-4643-b273-e1aaeddbe9e3",
        "colab": {
          "base_uri": "https://localhost:8080/",
          "height": 52
        }
      },
      "source": [
        "# use this for pre-trained embeddings\n",
        "MAX_VOCAB_SIZE = 15000\n",
        "\n",
        "TEXT.build_vocab(train_data, \n",
        "                 max_size = MAX_VOCAB_SIZE, \n",
        "                 vectors = \"glove.6B.100d\", \n",
        "                 unk_init = torch.Tensor.normal_)\n",
        "\n",
        "LABEL.build_vocab(train_data)"
      ],
      "execution_count": 0,
      "outputs": [
        {
          "output_type": "stream",
          "text": [
            ".vector_cache/glove.6B.zip: 862MB [06:32, 2.20MB/s]                          \n",
            "100%|█████████▉| 398733/400000 [00:15<00:00, 25432.34it/s]"
          ],
          "name": "stderr"
        }
      ]
    },
    {
      "cell_type": "code",
      "metadata": {
        "id": "lMeKkF6exiBQ",
        "colab_type": "code",
        "colab": {}
      },
      "source": [
        "BATCH_SIZE = 64\n",
        "\n",
        "device = torch.device('cuda' if torch.cuda.is_available() else 'cpu')\n",
        "\n",
        "train_iterator, val_iterator, test_iterator = data.BucketIterator.splits(\n",
        "    (train_data, val_data, test_data), \n",
        "    batch_size = BATCH_SIZE,\n",
        "    sort_key=lambda x: len(x.text),\n",
        "    sort_within_batch = True,\n",
        "    device = device)"
      ],
      "execution_count": 0,
      "outputs": []
    },
    {
      "cell_type": "code",
      "metadata": {
        "id": "uxGI0T08r7zM",
        "colab_type": "code",
        "colab": {}
      },
      "source": [
        "import torch.nn as nn\n",
        "\n",
        "class BiLSTM1(nn.Module):\n",
        "  def __init__(self, vocab_size, embedding_dim, hidden_dim, output_dim, n_layers, \n",
        "                 bidirectional, dropout, pad_idx):\n",
        "    super().__init__()\n",
        "    self.embedding = nn.Embedding(vocab_size, embedding_dim, padding_idx = pad_idx)\n",
        "    self.bilstm = nn.LSTM(embedding_dim, \n",
        "                           hidden_dim, \n",
        "                           num_layers=n_layers, \n",
        "                           bidirectional=bidirectional, \n",
        "                           dropout=dropout)\n",
        "        \n",
        "    self.fc = nn.Linear(hidden_dim * 2, output_dim)\n",
        "      \n",
        "    self.dropout = nn.Dropout(dropout)\n",
        "\n",
        "  def forward(self, text, text_lengths):\n",
        "        \n",
        "      #text = [sent len, batch size]\n",
        "      \n",
        "      embedded = self.dropout(self.embedding(text))\n",
        "      \n",
        "      #embedded = [sent len, batch size, emb dim]\n",
        "      \n",
        "      #pack sequence\n",
        "      packed_embedded = nn.utils.rnn.pack_padded_sequence(embedded, text_lengths)\n",
        "      \n",
        "      packed_output, (hidden, cell) = self.bilstm(packed_embedded)\n",
        "      \n",
        "      #unpack sequence\n",
        "      output, output_lengths = nn.utils.rnn.pad_packed_sequence(packed_output)\n",
        "\n",
        "      #output = [sent len, batch size, hid dim * num directions]\n",
        "      #output over padding tokens are zero tensors\n",
        "      \n",
        "      #hidden = [num layers * num directions, batch size, hid dim]\n",
        "      #cell = [num layers * num directions, batch size, hid dim]\n",
        "      \n",
        "      #concat the final forward (hidden[-2,:,:]) and backward (hidden[-1,:,:]) hidden layers\n",
        "      #and apply dropout\n",
        "      \n",
        "      hidden = self.dropout(torch.cat((hidden[-2,:,:], hidden[-1,:,:]), dim = 1))\n",
        "              \n",
        "      #hidden = [batch size, hid dim * num directions]\n",
        "          \n",
        "      return self.fc(hidden)\n"
      ],
      "execution_count": 0,
      "outputs": []
    },
    {
      "cell_type": "markdown",
      "metadata": {
        "id": "JLcu5inwxTwq",
        "colab_type": "text"
      },
      "source": [
        "Next we create an instance for BiLSTM class and load the parameters "
      ]
    },
    {
      "cell_type": "code",
      "metadata": {
        "id": "QoEB3EwyxRVQ",
        "colab_type": "code",
        "colab": {}
      },
      "source": [
        "INPUT_DIM = len(TEXT.vocab)\n",
        "EMBEDDING_DIM = 100\n",
        "HIDDEN_DIM = 256\n",
        "OUTPUT_DIM = 3\n",
        "N_LAYERS = 2\n",
        "BIDIRECTIONAL = True\n",
        "DROPOUT = 0.5\n",
        "PAD_IDX = TEXT.vocab.stoi[TEXT.pad_token]\n",
        "\n",
        "model = BiLSTM1(INPUT_DIM, \n",
        "            EMBEDDING_DIM, \n",
        "            HIDDEN_DIM, \n",
        "            OUTPUT_DIM, \n",
        "            N_LAYERS, \n",
        "            BIDIRECTIONAL, \n",
        "            DROPOUT, \n",
        "            PAD_IDX)"
      ],
      "execution_count": 0,
      "outputs": []
    },
    {
      "cell_type": "code",
      "metadata": {
        "id": "rbKb7DzTr6LJ",
        "colab_type": "code",
        "outputId": "afc23c6c-51dc-406c-8031-35d93aa91eff",
        "colab": {
          "base_uri": "https://localhost:8080/",
          "height": 156
        }
      },
      "source": [
        "pretrained_embeddings = TEXT.vocab.vectors\n",
        "\n",
        "#embeddings must be of shape [vocab, embedding_dim]\n",
        "print(pretrained_embeddings.shape)\n",
        "# replace the initial weight with pre-tained embeddings\n",
        "model.embedding.weight.data.copy_(pretrained_embeddings)"
      ],
      "execution_count": 0,
      "outputs": [
        {
          "output_type": "stream",
          "text": [
            "torch.Size([15002, 100])\n"
          ],
          "name": "stdout"
        },
        {
          "output_type": "execute_result",
          "data": {
            "text/plain": [
              "tensor([[-0.4472,  0.8308, -0.2964,  ..., -0.2595,  0.0280, -1.7661],\n",
              "        [ 0.0085, -1.2282,  0.7894,  ..., -0.3807, -0.7760, -0.7863],\n",
              "        [-0.3398,  0.2094,  0.4635,  ..., -0.2339,  0.4730, -0.0288],\n",
              "        ...,\n",
              "        [ 0.6482,  0.3508, -0.0585,  ...,  0.4474,  0.6879,  0.1730],\n",
              "        [ 0.0040,  0.4810,  1.0443,  ..., -0.3594,  0.0817,  0.8400],\n",
              "        [-0.5422, -0.3478,  0.2168,  ...,  0.3376, -0.0022, -0.0664]])"
            ]
          },
          "metadata": {
            "tags": []
          },
          "execution_count": 46
        }
      ]
    },
    {
      "cell_type": "code",
      "metadata": {
        "id": "NnKxvRKAzpve",
        "colab_type": "code",
        "outputId": "944a0a81-815b-4d87-dbbf-65e77ea3437d",
        "colab": {
          "base_uri": "https://localhost:8080/",
          "height": 139
        }
      },
      "source": [
        "# initialize <pad> and <unk> weights to zeros\n",
        "UNK_IDX = TEXT.vocab.stoi[TEXT.unk_token]\n",
        "\n",
        "model.embedding.weight.data[UNK_IDX] = torch.zeros(EMBEDDING_DIM)\n",
        "model.embedding.weight.data[PAD_IDX] = torch.zeros(EMBEDDING_DIM)\n",
        "\n",
        "print(model.embedding.weight.data)"
      ],
      "execution_count": 0,
      "outputs": [
        {
          "output_type": "stream",
          "text": [
            "tensor([[ 0.0000,  0.0000,  0.0000,  ...,  0.0000,  0.0000,  0.0000],\n",
            "        [ 0.0000,  0.0000,  0.0000,  ...,  0.0000,  0.0000,  0.0000],\n",
            "        [-0.3398,  0.2094,  0.4635,  ..., -0.2339,  0.4730, -0.0288],\n",
            "        ...,\n",
            "        [ 0.6482,  0.3508, -0.0585,  ...,  0.4474,  0.6879,  0.1730],\n",
            "        [ 0.0040,  0.4810,  1.0443,  ..., -0.3594,  0.0817,  0.8400],\n",
            "        [-0.5422, -0.3478,  0.2168,  ...,  0.3376, -0.0022, -0.0664]])\n"
          ],
          "name": "stdout"
        }
      ]
    },
    {
      "cell_type": "code",
      "metadata": {
        "id": "H89apiKgz-rY",
        "colab_type": "code",
        "colab": {}
      },
      "source": [
        "# create an optimizer\n",
        "import torch.optim as optim\n",
        "\n",
        "optimizer = optim.Adam(model.parameters())  # this alogo would update the model's parameters, pytorch sets the leaning rate itself"
      ],
      "execution_count": 0,
      "outputs": []
    },
    {
      "cell_type": "code",
      "metadata": {
        "id": "pUjgPWQR0uUN",
        "colab_type": "code",
        "colab": {}
      },
      "source": [
        "# defining the loss function is known as criterion\n",
        "criterion = nn.CrossEntropyLoss()\n",
        "\n",
        "# place the model and criterion to the GPU\n",
        "model = model.to(device)\n",
        "criterion = criterion.to(device)"
      ],
      "execution_count": 0,
      "outputs": []
    },
    {
      "cell_type": "markdown",
      "metadata": {
        "id": "qCC1OInW1r80",
        "colab_type": "text"
      },
      "source": [
        "# Training the Model"
      ]
    },
    {
      "cell_type": "code",
      "metadata": {
        "id": "eGcAJBtq6arK",
        "colab_type": "code",
        "outputId": "3075e623-943b-407e-a78e-0a9d87634844",
        "colab": {
          "base_uri": "https://localhost:8080/",
          "height": 278
        }
      },
      "source": [
        "# model training\n",
        "N_EPOCHS = 5\n",
        "\n",
        "best_valid_loss = float('inf')\n",
        "\n",
        "for epoch in range(N_EPOCHS):\n",
        "\n",
        "    start_time = time.time()\n",
        "    \n",
        "    train_loss, train_acc = train(model, train_iterator, optimizer, criterion)\n",
        "    valid_loss, valid_acc = evaluate(model, val_iterator, criterion)\n",
        "    \n",
        "    end_time = time.time()\n",
        "\n",
        "    epoch_mins, epoch_secs = epoch_time(start_time, end_time)\n",
        "    \n",
        "    if valid_loss < best_valid_loss:\n",
        "        best_valid_loss = valid_loss\n",
        "        torch.save(model.state_dict(), 'tut2-model.pt')\n",
        "    \n",
        "    print(f'Epoch: {epoch+1:02} | Epoch Time: {epoch_mins}m {epoch_secs}s')\n",
        "    print(f'\\tTrain Loss: {train_loss:.3f} | Train Acc: {train_acc*100:.2f}%')\n",
        "    print(f'\\t Val. Loss: {valid_loss:.3f} |  Val. Acc: {valid_acc*100:.2f}%')"
      ],
      "execution_count": 0,
      "outputs": [
        {
          "output_type": "stream",
          "text": [
            "Epoch: 01 | Epoch Time: 0m 2s\n",
            "\tTrain Loss: 0.805 | Train Acc: 66.02%\n",
            "\t Val. Loss: 0.669 |  Val. Acc: 72.83%\n",
            "Epoch: 02 | Epoch Time: 0m 2s\n",
            "\tTrain Loss: 0.658 | Train Acc: 72.50%\n",
            "\t Val. Loss: 0.618 |  Val. Acc: 75.60%\n",
            "Epoch: 03 | Epoch Time: 0m 2s\n",
            "\tTrain Loss: 0.586 | Train Acc: 76.62%\n",
            "\t Val. Loss: 0.558 |  Val. Acc: 78.14%\n",
            "Epoch: 04 | Epoch Time: 0m 2s\n",
            "\tTrain Loss: 0.532 | Train Acc: 78.77%\n",
            "\t Val. Loss: 0.533 |  Val. Acc: 79.00%\n",
            "Epoch: 05 | Epoch Time: 0m 2s\n",
            "\tTrain Loss: 0.484 | Train Acc: 80.49%\n",
            "\t Val. Loss: 0.539 |  Val. Acc: 79.88%\n"
          ],
          "name": "stdout"
        }
      ]
    },
    {
      "cell_type": "markdown",
      "metadata": {
        "id": "zayUvICExpgN",
        "colab_type": "text"
      },
      "source": [
        "Lets try Model 2(the one using pre-trained embeddings) with cleaned data i.e. removing hashtags, twitter handles and some numeric characters from the dataset. The model training and evealuation flow would be the same as previous models."
      ]
    },
    {
      "cell_type": "markdown",
      "metadata": {
        "id": "HA2eAhkXuA3C",
        "colab_type": "text"
      },
      "source": [
        "# Cleaning the data"
      ]
    },
    {
      "cell_type": "code",
      "metadata": {
        "id": "UkgOFyq5kwhT",
        "colab_type": "code",
        "colab": {}
      },
      "source": [
        "import re\n",
        "\n",
        "def pre_processing(text):\n",
        "  \"\"\"\n",
        "  remove hashtags, twitter handles and some numeric characters from the dataset\n",
        "  \"\"\"\n",
        "  # lowercase text\n",
        "  text = text.lower()\n",
        "  # remove twitter handles\n",
        "  text = re.sub(\"@[^\\s]+\", \"\", text)\n",
        "  # remove hashtags by the words in it\n",
        "  text = re.sub(\"#([^\\s]+)\", r'\\1', text)\n",
        "  #remove urls\n",
        "  text = re.sub(\"((www\\.[^s]+)|(https?://[^s]+))\", \"\", text)\n",
        "  # remove any char other than alphabets\n",
        "  text = re.sub(\"[^a-z\\s]+\", \" \", text) # need to take care whether to remove this or not\n",
        "  # remove whitespace\n",
        "  text = text.strip()\n",
        "\n",
        "  return text"
      ],
      "execution_count": 0,
      "outputs": []
    },
    {
      "cell_type": "code",
      "metadata": {
        "id": "w83Zd_tr0MAR",
        "colab_type": "code",
        "colab": {}
      },
      "source": [
        "# apply function on the dataframe for cleaning\n",
        "df_train = df_train.applymap(pre_processing)\n",
        "df_val = df_val.applymap(pre_processing)\n",
        "df_test = df_test.applymap(pre_processing)"
      ],
      "execution_count": 0,
      "outputs": []
    },
    {
      "cell_type": "code",
      "metadata": {
        "id": "NEsjHEFSzo8F",
        "colab_type": "code",
        "colab": {}
      },
      "source": [
        "os.mkdir('data1')"
      ],
      "execution_count": 0,
      "outputs": []
    },
    {
      "cell_type": "code",
      "metadata": {
        "id": "OFgbeHHjzl7P",
        "colab_type": "code",
        "colab": {}
      },
      "source": [
        "df_train.to_csv('data1/train.csv', index=False)\n",
        "df_val.to_csv('data1/val.csv', index=False)\n",
        "df_test.to_csv('data1/test.csv', index=False)"
      ],
      "execution_count": 0,
      "outputs": []
    },
    {
      "cell_type": "code",
      "metadata": {
        "id": "HiXc8za41Ak4",
        "colab_type": "code",
        "colab": {}
      },
      "source": [
        "# creating training, validation and test set\n",
        "train_data, val_data, test_data = data.TabularDataset.splits(path='data1/',\n",
        "                                                            train='train.csv',\n",
        "                                                            validation='val.csv',\n",
        "                                                            test='test.csv',\n",
        "                                                            format='csv',\n",
        "                                                            skip_header=True,\n",
        "                                                            fields=[('text', TEXT), ('airline_sentiment', LABEL)])"
      ],
      "execution_count": 0,
      "outputs": []
    },
    {
      "cell_type": "code",
      "metadata": {
        "id": "pF8AYGJS1R1R",
        "colab_type": "code",
        "outputId": "72830b5a-0f7f-4ba8-9088-9ad04d3e10b1",
        "colab": {
          "base_uri": "https://localhost:8080/",
          "height": 34
        }
      },
      "source": [
        "print(vars(train_data.examples[0]))"
      ],
      "execution_count": 0,
      "outputs": [
        {
          "output_type": "stream",
          "text": [
            "{'text': ['of', 'course', 'i', 'am'], 'airline_sentiment': 'neutral'}\n"
          ],
          "name": "stdout"
        }
      ]
    },
    {
      "cell_type": "code",
      "metadata": {
        "id": "byg_ErI_1qbA",
        "colab_type": "code",
        "colab": {}
      },
      "source": [
        "# use this for pre-trained embeddings\n",
        "MAX_VOCAB_SIZE = 15000\n",
        "\n",
        "TEXT.build_vocab(train_data, \n",
        "                 max_size = MAX_VOCAB_SIZE, \n",
        "                 vectors = \"glove.6B.100d\", \n",
        "                 unk_init = torch.Tensor.normal_)\n",
        "\n",
        "LABEL.build_vocab(train_data)"
      ],
      "execution_count": 0,
      "outputs": []
    },
    {
      "cell_type": "code",
      "metadata": {
        "id": "L6JLuAKC1ykK",
        "colab_type": "code",
        "colab": {}
      },
      "source": [
        "BATCH_SIZE = 64\n",
        "\n",
        "device = torch.device('cuda' if torch.cuda.is_available() else 'cpu')\n",
        "\n",
        "train_iterator, val_iterator, test_iterator = data.BucketIterator.splits(\n",
        "    (train_data, val_data, test_data), \n",
        "    batch_size = BATCH_SIZE,\n",
        "    sort_key=lambda x: len(x.text),\n",
        "    sort_within_batch = True,\n",
        "    device = device)"
      ],
      "execution_count": 0,
      "outputs": []
    },
    {
      "cell_type": "code",
      "metadata": {
        "id": "XxmKbIvO14Nl",
        "colab_type": "code",
        "colab": {}
      },
      "source": [
        "INPUT_DIM = len(TEXT.vocab)\n",
        "EMBEDDING_DIM = 100\n",
        "HIDDEN_DIM = 256\n",
        "OUTPUT_DIM = 3\n",
        "N_LAYERS = 2\n",
        "BIDIRECTIONAL = True\n",
        "DROPOUT = 0.5\n",
        "PAD_IDX = TEXT.vocab.stoi[TEXT.pad_token]\n",
        "\n",
        "model = BiLSTM1(INPUT_DIM, \n",
        "            EMBEDDING_DIM, \n",
        "            HIDDEN_DIM, \n",
        "            OUTPUT_DIM, \n",
        "            N_LAYERS, \n",
        "            BIDIRECTIONAL, \n",
        "            DROPOUT, \n",
        "            PAD_IDX)"
      ],
      "execution_count": 0,
      "outputs": []
    },
    {
      "cell_type": "code",
      "metadata": {
        "id": "bahkGVtQ2a7k",
        "colab_type": "code",
        "outputId": "9226ec3c-46bf-43f2-9a4a-4a6f7a66c64d",
        "colab": {
          "base_uri": "https://localhost:8080/",
          "height": 156
        }
      },
      "source": [
        "pretrained_embeddings = TEXT.vocab.vectors\n",
        "\n",
        "#embeddings must be of shape [vocab, embedding_dim]\n",
        "print(pretrained_embeddings.shape)\n",
        "# replace the initial weight with pre-tained embeddings\n",
        "model.embedding.weight.data.copy_(pretrained_embeddings)"
      ],
      "execution_count": 0,
      "outputs": [
        {
          "output_type": "stream",
          "text": [
            "torch.Size([9396, 100])\n"
          ],
          "name": "stdout"
        },
        {
          "output_type": "execute_result",
          "data": {
            "text/plain": [
              "tensor([[-0.1958, -1.1607,  0.3943,  ...,  0.6818, -0.4271,  2.0687],\n",
              "        [ 1.1998, -0.4473,  1.2064,  ...,  0.4942, -0.3781,  1.3651],\n",
              "        [ 0.6647,  2.1960, -0.5188,  ..., -0.3910, -0.1504, -0.6958],\n",
              "        ...,\n",
              "        [-0.5556, -0.0176,  0.6531,  ...,  0.2495, -0.0756,  0.0662],\n",
              "        [-0.6644, -0.3045,  0.6151,  ...,  0.1404,  0.5788, -0.0333],\n",
              "        [-1.3948, -1.6095, -0.0666,  ..., -0.2980,  0.5114,  0.6250]])"
            ]
          },
          "metadata": {
            "tags": []
          },
          "execution_count": 62
        }
      ]
    },
    {
      "cell_type": "code",
      "metadata": {
        "id": "QuoO8mcg2kL6",
        "colab_type": "code",
        "colab": {}
      },
      "source": [
        "# initialize <pad> and <unk> weights to zeros\n",
        "UNK_IDX = TEXT.vocab.stoi[TEXT.unk_token]\n",
        "\n",
        "model.embedding.weight.data[UNK_IDX] = torch.zeros(EMBEDDING_DIM)\n",
        "model.embedding.weight.data[PAD_IDX] = torch.zeros(EMBEDDING_DIM)"
      ],
      "execution_count": 0,
      "outputs": []
    },
    {
      "cell_type": "code",
      "metadata": {
        "id": "KTK-OEc_2ux2",
        "colab_type": "code",
        "colab": {}
      },
      "source": [
        "optimizer = optim.Adam(model.parameters())  # this alogo would update the model's parameters, pytorch sets the leaning rate itself\n",
        "\n",
        "# defining the loss function is known as criterion\n",
        "criterion = nn.CrossEntropyLoss()\n",
        "\n",
        "# place the model and criterion to the GPU\n",
        "model = model.to(device)\n",
        "criterion = criterion.to(device)"
      ],
      "execution_count": 0,
      "outputs": []
    },
    {
      "cell_type": "code",
      "metadata": {
        "id": "Nad0yDW-2-nX",
        "colab_type": "code",
        "outputId": "ead08608-36fe-4744-dd80-c1258124eb6c",
        "colab": {
          "base_uri": "https://localhost:8080/",
          "height": 278
        }
      },
      "source": [
        "# model training\n",
        "N_EPOCHS = 5\n",
        "\n",
        "best_valid_loss = float('inf')\n",
        "\n",
        "for epoch in range(N_EPOCHS):\n",
        "\n",
        "    start_time = time.time()\n",
        "    \n",
        "    train_loss, train_acc = train(model, train_iterator, optimizer, criterion)\n",
        "    valid_loss, valid_acc = evaluate(model, val_iterator, criterion)\n",
        "    \n",
        "    end_time = time.time()\n",
        "\n",
        "    epoch_mins, epoch_secs = epoch_time(start_time, end_time)\n",
        "    \n",
        "    if valid_loss < best_valid_loss:\n",
        "        best_valid_loss = valid_loss\n",
        "        torch.save(model.state_dict(), 'tut3-model.pt')\n",
        "    \n",
        "    print(f'Epoch: {epoch+1:02} | Epoch Time: {epoch_mins}m {epoch_secs}s')\n",
        "    print(f'\\tTrain Loss: {train_loss:.3f} | Train Acc: {train_acc*100:.2f}%')\n",
        "    print(f'\\t Val. Loss: {valid_loss:.3f} |  Val. Acc: {valid_acc*100:.2f}%')"
      ],
      "execution_count": 0,
      "outputs": [
        {
          "output_type": "stream",
          "text": [
            "Epoch: 01 | Epoch Time: 0m 2s\n",
            "\tTrain Loss: 0.806 | Train Acc: 65.72%\n",
            "\t Val. Loss: 0.616 |  Val. Acc: 75.32%\n",
            "Epoch: 02 | Epoch Time: 0m 1s\n",
            "\tTrain Loss: 0.632 | Train Acc: 74.10%\n",
            "\t Val. Loss: 0.556 |  Val. Acc: 77.92%\n",
            "Epoch: 03 | Epoch Time: 0m 1s\n",
            "\tTrain Loss: 0.554 | Train Acc: 78.01%\n",
            "\t Val. Loss: 0.506 |  Val. Acc: 80.56%\n",
            "Epoch: 04 | Epoch Time: 0m 1s\n",
            "\tTrain Loss: 0.497 | Train Acc: 80.49%\n",
            "\t Val. Loss: 0.491 |  Val. Acc: 81.00%\n",
            "Epoch: 05 | Epoch Time: 0m 1s\n",
            "\tTrain Loss: 0.461 | Train Acc: 81.65%\n",
            "\t Val. Loss: 0.507 |  Val. Acc: 81.55%\n"
          ],
          "name": "stdout"
        }
      ]
    },
    {
      "cell_type": "markdown",
      "metadata": {
        "id": "Ee_YQNZc3udw",
        "colab_type": "text"
      },
      "source": [
        "validation accuracy is more, if the model is trained on cleaned data."
      ]
    },
    {
      "cell_type": "markdown",
      "metadata": {
        "id": "xLos9MU54vqJ",
        "colab_type": "text"
      },
      "source": [
        "Next we'll try ULMFit for sentiment analysis in other notebook"
      ]
    },
    {
      "cell_type": "code",
      "metadata": {
        "id": "463bKXUO5Mvg",
        "colab_type": "code",
        "colab": {}
      },
      "source": [
        ""
      ],
      "execution_count": 0,
      "outputs": []
    }
  ]
}